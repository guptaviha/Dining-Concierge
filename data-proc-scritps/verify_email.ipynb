{
 "cells": [
  {
   "cell_type": "code",
   "execution_count": 1,
   "metadata": {},
   "outputs": [],
   "source": [
    "import boto3\n",
    "import json"
   ]
  },
  {
   "cell_type": "code",
   "execution_count": 2,
   "metadata": {},
   "outputs": [],
   "source": [
    "ses = boto3.client('ses')"
   ]
  },
  {
   "cell_type": "code",
   "execution_count": 3,
   "metadata": {},
   "outputs": [
    {
     "name": "stdout",
     "output_type": "stream",
     "text": [
      "{'ResponseMetadata': {'RequestId': '0489d26a-910b-4650-8e9c-34e7415b36ae', 'HTTPStatusCode': 200, 'HTTPHeaders': {'date': 'Fri, 04 Mar 2022 00:20:59 GMT', 'content-type': 'text/xml', 'content-length': '248', 'connection': 'keep-alive', 'x-amzn-requestid': '0489d26a-910b-4650-8e9c-34e7415b36ae'}, 'RetryAttempts': 0}}\n"
     ]
    }
   ],
   "source": [
    "response = ses.verify_email_identity(\n",
    "  EmailAddress = 'mantriaatman@gmail.com'\n",
    ")\n",
    "\n",
    "print(response)"
   ]
  },
  {
   "cell_type": "code",
   "execution_count": 4,
   "metadata": {},
   "outputs": [
    {
     "name": "stdout",
     "output_type": "stream",
     "text": [
      "{'Identities': ['mantriaatman@gmail.com', 'am11444@nyu.edu', 'vg2237@nyu.edu'], 'ResponseMetadata': {'RequestId': '65eea02c-fbde-4836-8237-44ccba6ca314', 'HTTPStatusCode': 200, 'HTTPHeaders': {'date': 'Fri, 04 Mar 2022 00:21:01 GMT', 'content-type': 'text/xml', 'content-length': '416', 'connection': 'keep-alive', 'x-amzn-requestid': '65eea02c-fbde-4836-8237-44ccba6ca314'}, 'RetryAttempts': 0}}\n"
     ]
    }
   ],
   "source": [
    "response = ses.list_identities(\n",
    "  IdentityType = 'EmailAddress',\n",
    "  MaxItems=10\n",
    ")\n",
    "\n",
    "print(response)"
   ]
  },
  {
   "cell_type": "code",
   "execution_count": 11,
   "metadata": {},
   "outputs": [],
   "source": [
    "dynamodb = boto3.resource('dynamodb')"
   ]
  },
  {
   "cell_type": "code",
   "execution_count": 13,
   "metadata": {},
   "outputs": [],
   "source": [
    "table = dynamodb.Table('yelp-restaurants-v2')"
   ]
  },
  {
   "cell_type": "code",
   "execution_count": 14,
   "metadata": {},
   "outputs": [
    {
     "name": "stdout",
     "output_type": "stream",
     "text": [
      "{'rating': Decimal('4'), 'insertedAtTimestamp': Decimal('1646268070'), 'address': '248 5th Ave, Brooklyn, NY 11215', 'id': 'aSprnLY-6GkMk1cuv0TMeA', 'name': 'Al Di La Trattoria', 'cuisine': 'italian'}\n"
     ]
    }
   ],
   "source": [
    "response = table.get_item(Key={'id': 'aSprnLY-6GkMk1cuv0TMeA'})\n",
    "item = response['Item']\n",
    "print(item)"
   ]
  },
  {
   "cell_type": "code",
   "execution_count": null,
   "metadata": {},
   "outputs": [],
   "source": [
    " "
   ]
  }
 ],
 "metadata": {
  "kernelspec": {
   "display_name": "Python 3",
   "language": "python",
   "name": "python3"
  },
  "language_info": {
   "codemirror_mode": {
    "name": "ipython",
    "version": 3
   },
   "file_extension": ".py",
   "mimetype": "text/x-python",
   "name": "python",
   "nbconvert_exporter": "python",
   "pygments_lexer": "ipython3",
   "version": "3.7.9"
  }
 },
 "nbformat": 4,
 "nbformat_minor": 4
}
